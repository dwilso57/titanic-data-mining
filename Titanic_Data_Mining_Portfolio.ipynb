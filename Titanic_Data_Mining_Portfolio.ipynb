{
  "nbformat": 4,
  "nbformat_minor": 0,
  "metadata": {
    "colab": {
      "provenance": [],
      "authorship_tag": "ABX9TyOi6WRJHCQxZgjjDchgZyNx",
      "include_colab_link": true
    },
    "kernelspec": {
      "name": "python3",
      "display_name": "Python 3"
    },
    "language_info": {
      "name": "python"
    }
  },
  "cells": [
    {
      "cell_type": "markdown",
      "metadata": {
        "id": "view-in-github",
        "colab_type": "text"
      },
      "source": [
        "<a href=\"https://colab.research.google.com/github/dwilso57/titanic-data-mining/blob/main/Titanic_Data_Mining_Portfolio.ipynb\" target=\"_parent\"><img src=\"https://colab.research.google.com/assets/colab-badge.svg\" alt=\"Open In Colab\"/></a>"
      ]
    },
    {
      "cell_type": "code",
      "execution_count": null,
      "metadata": {
        "colab": {
          "base_uri": "https://localhost:8080/"
        },
        "id": "kor7x53_MfGY",
        "outputId": "e9d2fd98-449e-40fd-e28a-37619957bcfa"
      },
      "outputs": [
        {
          "output_type": "stream",
          "name": "stdout",
          "text": [
            "Requirement already satisfied: pandas in /usr/local/lib/python3.11/dist-packages (2.2.2)\n",
            "Requirement already satisfied: scikit-learn in /usr/local/lib/python3.11/dist-packages (1.6.1)\n",
            "Requirement already satisfied: seaborn in /usr/local/lib/python3.11/dist-packages (0.13.2)\n",
            "Requirement already satisfied: matplotlib in /usr/local/lib/python3.11/dist-packages (3.10.0)\n",
            "Requirement already satisfied: numpy>=1.23.2 in /usr/local/lib/python3.11/dist-packages (from pandas) (2.0.2)\n",
            "Requirement already satisfied: python-dateutil>=2.8.2 in /usr/local/lib/python3.11/dist-packages (from pandas) (2.9.0.post0)\n",
            "Requirement already satisfied: pytz>=2020.1 in /usr/local/lib/python3.11/dist-packages (from pandas) (2025.2)\n",
            "Requirement already satisfied: tzdata>=2022.7 in /usr/local/lib/python3.11/dist-packages (from pandas) (2025.2)\n",
            "Requirement already satisfied: scipy>=1.6.0 in /usr/local/lib/python3.11/dist-packages (from scikit-learn) (1.16.1)\n",
            "Requirement already satisfied: joblib>=1.2.0 in /usr/local/lib/python3.11/dist-packages (from scikit-learn) (1.5.1)\n",
            "Requirement already satisfied: threadpoolctl>=3.1.0 in /usr/local/lib/python3.11/dist-packages (from scikit-learn) (3.6.0)\n",
            "Requirement already satisfied: contourpy>=1.0.1 in /usr/local/lib/python3.11/dist-packages (from matplotlib) (1.3.3)\n",
            "Requirement already satisfied: cycler>=0.10 in /usr/local/lib/python3.11/dist-packages (from matplotlib) (0.12.1)\n",
            "Requirement already satisfied: fonttools>=4.22.0 in /usr/local/lib/python3.11/dist-packages (from matplotlib) (4.59.0)\n",
            "Requirement already satisfied: kiwisolver>=1.3.1 in /usr/local/lib/python3.11/dist-packages (from matplotlib) (1.4.8)\n",
            "Requirement already satisfied: packaging>=20.0 in /usr/local/lib/python3.11/dist-packages (from matplotlib) (25.0)\n",
            "Requirement already satisfied: pillow>=8 in /usr/local/lib/python3.11/dist-packages (from matplotlib) (11.3.0)\n",
            "Requirement already satisfied: pyparsing>=2.3.1 in /usr/local/lib/python3.11/dist-packages (from matplotlib) (3.2.3)\n",
            "Requirement already satisfied: six>=1.5 in /usr/local/lib/python3.11/dist-packages (from python-dateutil>=2.8.2->pandas) (1.17.0)\n",
            "Prediction Accuracy: 0.78\n"
          ]
        }
      ],
      "source": [
        "# Install required packages\n",
        "!pip install pandas scikit-learn seaborn matplotlib\n",
        "\n",
        "# Import libraries\n",
        "import pandas as pd\n",
        "from seaborn import load_dataset\n",
        "from sklearn.model_selection import train_test_split\n",
        "from sklearn.tree import DecisionTreeClassifier\n",
        "from sklearn.metrics import accuracy_score\n",
        "\n",
        "# Load Titanic dataset\n",
        "df = load_dataset('titanic')\n",
        "df = df[['survived', 'pclass', 'sex', 'age']].dropna()\n",
        "df['sex'] = df['sex'].map({'male': 0, 'female': 1})\n",
        "\n",
        "# Prepare features and labels\n",
        "X = df[['pclass', 'sex', 'age']]\n",
        "y = df['survived']\n",
        "\n",
        "# Split data\n",
        "X_train, X_test, y_train, y_test = train_test_split(X, y, test_size=0.2, random_state=42)\n",
        "\n",
        "# Train model\n",
        "model = DecisionTreeClassifier()\n",
        "model.fit(X_train, y_train)\n",
        "\n",
        "# Predict and evaluate\n",
        "y_pred = model.predict(X_test)\n",
        "accuracy = accuracy_score(y_test, y_pred)\n",
        "print(f\"Prediction Accuracy: {accuracy:.2f}\")"
      ]
    },
    {
      "cell_type": "markdown",
      "source": [
        "# Titanic Survival Prediction using Data Mining\n",
        "This project uses real Titanic passenger data to predict which passengers were likely to survive. It’s a beginner-friendly data mining project using Python, Pandas, and Scikit-learn.\n",
        "Use machine learning to find patterns in the Titanic dataset and build a simple model that can predict survival based on features like age, gender, and passenger class.\n",
        "We use the Titanic dataset from the Seaborn library. It includes passenger data such as:\n",
        "- Survival status\n",
        "- Age\n",
        "- Gender\n",
        "- Passenger class\n",
        "\n",
        "We'll use these to train a decision tree model.\n",
        "\n",
        "We clean the dataset by:\n",
        "- Removing missing values\n",
        "- Converting categorical data (like \"sex\") to numeric\n",
        "- Selecting only the most useful features for prediction\n",
        "\n",
        "We use a Decision Tree Classifier from Scikit-learn. This algorithm splits the data into branches based on the most informative questions to predict survival.\n",
        "After training the model and testing it, we achieved an accuracy of about 77%. This means our model predicts survival correctly about 3 out of 4 times.\n",
        "\n",
        "\n",
        "This project shows how simple data mining and machine learning techniques can be applied to real-world problems. With more features and deeper models, we could improve accuracy further.\n",
        "\n",
        "# Install required packages\n",
        "!pip install pandas scikit-learn seaborn matplotlib\n",
        "\n",
        "# Import libraries\n",
        "import pandas as pd\n",
        "from seaborn import load_dataset\n",
        "from sklearn.model_selection import train_test_split\n",
        "from sklearn.tree import DecisionTreeClassifier\n",
        "from sklearn.metrics import accuracy_score\n",
        "\n",
        "# Load Titanic dataset\n",
        "df = load_dataset('titanic')\n",
        "df = df[['survived', 'pclass', 'sex', 'age']].dropna()\n",
        "df['sex'] = df['sex'].map({'male': 0, 'female': 1})\n",
        "\n",
        "# Prepare features and labels\n",
        "X = df[['pclass', 'sex', 'age']]\n",
        "y = df['survived']\n",
        "\n",
        "# Split data\n",
        "X_train, X_test, y_train, y_test = train_test_split(X, y, test_size=0.2, random_state=42)\n",
        "\n",
        "# Train model\n",
        "model = DecisionTreeClassifier()\n",
        "model.fit(X_train, y_train)\n",
        "\n",
        "# Predict and evaluate\n",
        "y_pred = model.predict(X_test)\n",
        "accuracy = accuracy_score(y_test, y_pred)\n",
        "print(f\"Prediction Accuracy: {accuracy:.2f}\")"
      ],
      "metadata": {
        "id": "ph9Omy4gOfpd"
      }
    }
  ]
}